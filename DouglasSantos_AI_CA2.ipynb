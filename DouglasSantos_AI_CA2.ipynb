{
 "cells": [
  {
   "cell_type": "code",
   "execution_count": 4,
   "id": "fb98f903",
   "metadata": {},
   "outputs": [],
   "source": [
    "# Library to insert Images and Documents to the notebook\n",
    "from IPython.display import IFrame"
   ]
  },
  {
   "cell_type": "markdown",
   "id": "5cc78834",
   "metadata": {},
   "source": [
    "*Cover Page Placeholder*"
   ]
  },
  {
   "cell_type": "markdown",
   "id": "a4b4584d",
   "metadata": {},
   "source": [
    "# Questions \n",
    "### 1) A puzzle has multiple ways of reaching the end solution. Fig. 1 shows a graph that represents all possible routes to the solution. The starting point of the game is represented by A, the solution is represented by S. The other points in the graph are possible intermediary stages."
   ]
  },
  {
   "cell_type": "markdown",
   "id": "7c4704a6",
   "metadata": {},
   "source": [
    "<img src=\"Graph.png\" width=\"60%\"/>\n",
    "\n",
    "(a) The graph in Fig. 1 is a visualisation of the problem."
   ]
  },
  {
   "cell_type": "markdown",
   "id": "2441f24a",
   "metadata": {},
   "source": [
    "### (i) Identify the differences between a graph and a tree. [0-5]\n"
   ]
  },
  {
   "cell_type": "markdown",
   "id": "6e750659",
   "metadata": {},
   "source": [
    "**Trees** are a subset of graphs, with a more strict, ***hierarchical structure***, and they are, in a way, similar to family trees: Each member (node) has one parent and can have many children. With trees there are ***no loops***, there can be no connection from a node with itself. If there are n members, there are n-1 connections.\n",
    "\n",
    "**Graphs** are a ***more flexible*** kind of data structures. With graphs, nodes can connect to any number of other nodes, including themselves, causing loops, and there is no central root node. The number of connections can vary.\n"
   ]
  },
  {
   "cell_type": "markdown",
   "id": "5af21fa3",
   "metadata": {},
   "source": [
    "### (ii) Explain in detail how the graph is an abstraction of the problem. [0-5]\n"
   ]
  },
  {
   "cell_type": "markdown",
   "id": "09230e77",
   "metadata": {},
   "source": [
    "A graph, as representation of the puzzle, can serve us to **simplify a complex problem**, and ignore the irrelevant details. In this case, a puzzle with multiple solutions, the main goal is to find the most optimal solution. By using a graph to represent the problem, we can **visualize and analyze its properties**, like the number of stages (represented by the nodes), possible moves, complexity, and difficulty (which can be represented by the weight of the edges).\n",
    "\n",
    "Using a graph, as such representation, also allows us to apply **graph algorithms** to find the desired solution more efficiently. This abstraction allows us to turn a real life situation into a logical mathematical problem, applying mathematical tools to achieve a more efficient solution."
   ]
  },
  {
   "cell_type": "markdown",
   "id": "065e243d",
   "metadata": {},
   "source": [
    "### (iii) Identify the advantages of using a visualisation such as the one shown in Fig. 1. [0-5]"
   ]
  },
  {
   "cell_type": "markdown",
   "id": "55b7117b",
   "metadata": {},
   "source": [
    "Visualizing a problem like this has several advantages:\n",
    "\n",
    "**Intuitive visualization:** Visuals are easier to understand than text or numbers. They can help everyone, even those who are not experts, understand the problem quickly and easily.\n",
    "\n",
    "**Effective Communication:** A good visualization makes complicated information easy and clear to understand. It ensures that everyone is on the same page, making data sharing easier.\n",
    "\n",
    "**Better Analysis:** Visualization can lead to better analysis as it allows a more comprehensive view of the data. It can also help in checking the results of models and algorithms.\n",
    "\n",
    "**Use of Algorithms:** With the problem visualized as a graph, we can apply graph algorithms like Dijkstra’s or A* to find the shortest path or the optimal solution efficiently.\n"
   ]
  },
  {
   "cell_type": "markdown",
   "id": "7952eabc",
   "metadata": {},
   "source": [
    "### (b) Demonstrate how Dijkstra’s algorithm would find the shortest path to the solution in Fig.1 through diagrams and written explanation of each stage. [0-25]"
   ]
  },
  {
   "cell_type": "markdown",
   "id": "be8272de",
   "metadata": {},
   "source": [
    "Dijkstra uses a greedy approach, calculating the shortest path from the starting node to all other nodes in the graph. It will use a priority queue to select the next node to visit, in this case, based on the weight given. In order to find the shortest path to the solution in Fig. 1 it will first assign 'infinity' as initial value to all vertices to make sure any other cost it assigns to the paths later on is the lowest, except for A, which is the starting node, that will be equal to zero, the distance cost from itself:"
   ]
  },
  {
   "cell_type": "markdown",
   "id": "394eb2ab",
   "metadata": {},
   "source": [
    "A .................. 0 - From: A\\\n",
    "B .................. inf\\\n",
    "C .................. inf\\\n",
    "D .................. inf\\\n",
    "E .................. inf\\\n",
    "F .................. inf\\\n",
    "G .................. inf\\\n",
    "H .................. inf\\\n",
    "J .................. inf\\\n",
    "K .................. inf\\\n",
    "L .................. inf\\\n",
    "M .................. inf\\\n",
    "N .................. inf\\\n",
    "P .................. inf\\\n",
    "Q .................. inf\\\n",
    "R .................. inf\\\n",
    "S .................. inf\\\n",
    "T .................. inf\\\n",
    "U .................. inf\\\n",
    "V .................. inf\\\n",
    "W .................. inf"
   ]
  },
  {
   "cell_type": "markdown",
   "id": "181551bf",
   "metadata": {},
   "source": [
    "It will keep track of visited nodes (here represented by (x)), updating their costs along the way according to the lowest cost path taken to get to them. In this example, in the first iteration the costs from A to B is 1, A to H is 2, and A to C is 5, which are less than 'infinity', so it will replace the original values:"
   ]
  },
  {
   "cell_type": "markdown",
   "id": "a4842856",
   "metadata": {},
   "source": [
    "**Vertex** **--------** **Cost**\\\n",
    "\\\n",
    "**(x) A .................. 0 - From: A\\\n",
    "B .................. 1 - From: A\\\n",
    "C .................. 5 - From:A**\\\n",
    "D .................. inf\\\n",
    "E .................. inf\\\n",
    "F .................. inf\\\n",
    "G .................. inf\\\n",
    "**H .................. 2 - From: A**"
   ]
  },
  {
   "cell_type": "markdown",
   "id": "6a75636d",
   "metadata": {},
   "source": [
    "\n",
    "<img src=\"Visited-A.png\" align=\"left\" width=\"40%\"/>\n"
   ]
  },
  {
   "cell_type": "markdown",
   "id": "061f3a3c",
   "metadata": {},
   "source": [
    "It then goes to the lowest cost adjecent vertex (B=1, H=2, so it chooses B) and repeats the process. It marks it as visited and calculates the path to C and D. This time, the cost from B to C will be lower than A to C, so it replaces it with the lowest:"
   ]
  },
  {
   "cell_type": "markdown",
   "id": "9a5499ba",
   "metadata": {},
   "source": [
    "**Vertex** **--------** **Cost**\\\n",
    "\\\n",
    "**(x) A .................. 0 - From: A\\\n",
    "(x) B .................. 1 - From: A\\\n",
    "C .................. 3 - From: B\\\n",
    "D .................. 5 - From: B**\\\n",
    "E .................. inf\\\n",
    "F .................. inf\\\n",
    "G .................. inf\\\n",
    "**H .................. 2 - From: A**"
   ]
  },
  {
   "cell_type": "markdown",
   "id": "31f6b0bb",
   "metadata": {},
   "source": [
    "After that, it chooses again the lowest unvisited vertex, now H (H=2 < C=3 < D=5):"
   ]
  },
  {
   "cell_type": "markdown",
   "id": "70fa8d7a",
   "metadata": {},
   "source": [
    "**Vertex** **--------** **Cost**\\\n",
    "\\\n",
    "**(x) A .................. 0 - From: A\\\n",
    "(x) B .................. 1 - From: A\\\n",
    "C .................. 3 - From: B\\\n",
    "D .................. 5 - From: B**\\\n",
    "E .................. inf\\\n",
    "F .................. inf\\\n",
    "G .................. inf\\\n",
    "**(x) H .................. 2 - From: A\\\n",
    "J .................. 11 - From: H\\\n",
    "K .................. 7 - From: H**"
   ]
  },
  {
   "cell_type": "markdown",
   "id": "5b8b7a55",
   "metadata": {},
   "source": [
    "<img src=\"Visited-A-B-H.png\" align=\"left\" width=\"40%\"/>"
   ]
  },
  {
   "cell_type": "markdown",
   "id": "2178b7b5",
   "metadata": {},
   "source": [
    "It goes on to visit every vertex and calculate every path.\\\n",
    "The final table for the graph above will look like this:"
   ]
  },
  {
   "cell_type": "markdown",
   "id": "86ad73a7",
   "metadata": {},
   "source": [
    "**Vertex** ----------- **Cost**\\\n",
    "**\\\n",
    "(x) A .................. 0 - From: A\\\n",
    "(x) B .................. 1 - From: A\\\n",
    "(x) C .................. 3 - From: B**\\\n",
    "(x) D .................. 5 - From: B\\\n",
    "(x) E .................. 9 - From: F\\\n",
    "(x) F .................. 6 - From: G\\\n",
    "**(x) G .................. 4 - From: C**\\\n",
    "(x) H .................. 2 - From: A\\\n",
    "(x) J .................. 10 - From: K\\\n",
    "(x) K .................. 7 - From: H\\\n",
    "**(x) L .................. 7 - From: G**\\\n",
    "(x) M .................. 11 - From: L\\\n",
    "**(x) N .................. 10 - From: L**\\\n",
    "(x) P .................. 13 - From: M\\\n",
    "(x) Q .................. 19 - From: W\\\n",
    "(x) R .................. 18 - From: P\\\n",
    "**(x) S .................. 17 - From: N**\\\n",
    "(x) T .................. 20 - From: U\\\n",
    "(x) U .................. 19 - From: S\\\n",
    "(x) V .................. 17 - From: L\\\n",
    "(x) W .................. 15 - From: E\n",
    "\n"
   ]
  },
  {
   "cell_type": "markdown",
   "id": "a5a4ecde",
   "metadata": {},
   "source": [
    "After visiting all nodes and calculating all paths, it will then reveal the value of the lowest cost path from A to S: **17**\\\n",
    "And the path: **A - B - C - G - L - N - S**\n",
    "\n",
    "<img src=\"shortest_path_graph.png\" align=\"left\" width=\"50%\"/>"
   ]
  },
  {
   "cell_type": "markdown",
   "id": "66bd9f40",
   "metadata": {},
   "source": [
    "### 2) The creator of the puzzle has been told that the A* algorithm is more efficient at finding the shortest path because it uses heuristics. Compare the performance of Dijkstra’s algorithm and the A* search algorithm, referring to heuristics, to find the shortest path to the problem by implementing both algorithms programmatically and comparing the solutions generated in Mark-down. Refer to the complexity of the algorithms and compare the actual time it takes for the solutions to be processed. [0-60]\n"
   ]
  },
  {
   "cell_type": "markdown",
   "id": "9eea4d23",
   "metadata": {},
   "source": []
  },
  {
   "cell_type": "markdown",
   "id": "42ec3ba5",
   "metadata": {},
   "source": [
    "# References and Resources\n",
    "\n",
    "\n"
   ]
  },
  {
   "cell_type": "markdown",
   "id": "f3b23b92",
   "metadata": {},
   "source": [
    "(i) \n",
    "\n",
    "https://www.javatpoint.com/tree-vs-graph-data-structure\n",
    "\n",
    "https://www.geeksforgeeks.org/difference-between-graph-and-tree/\n",
    "\n",
    "What's the difference between the data structure Tree and Graph?. https://stackoverflow.com/questions/7423401/whats-the-difference-between-the-data-structure-tree-and-graph.\n",
    "\n",
    "https://www.maths.ed.ac.uk/~v1ranick/papers/wilsongraph.pdf\n",
    "\n",
    "\n",
    "(ii)\n",
    "\n",
    "https://www.manning.com/books/classic-computer-science-problems-in-swift\n",
    "\n",
    "https://livebook.manning.com/book/classic-computer-science-problems-in-swift/chapter-4/\n",
    "\n",
    "\n",
    "(iii)\n",
    "\n",
    "https://hdsr.mitpress.mit.edu/pub/zok97i7p/release/4\n",
    "\n",
    "https://www.tableau.com/data-insights/data-visualization/advantages-disadvantages\n",
    "\n",
    "https://www.geeksforgeeks.org/applications-advantages-and-disadvantages-of-weighted-graph\n",
    "\n",
    "\n",
    "(b)\n",
    "\n",
    "https://medium.com/recreational-maths/dijkstras-algorithm-4963ad174058\n",
    "\n",
    "https://stackabuse.com/courses/graphs-in-python-theory-and-implementation/lessons/dijkstras-algorithm/\n",
    "\n",
    "https://stackoverflow.com/questions/22897209/dijkstras-algorithm-in-python\n",
    "\n",
    "https://levelup.gitconnected.com/dijkstras-algorithm-vs-a-search-a-short-comic-5fdd95fcfca\n",
    "\n",
    "https://towardsdev.com/algorithms-series-dijkstras-shortest-path-algorithm-c73678862a90\n",
    "\n",
    "https://graphonline.ru/en/\n",
    "\n",
    "Shortest Path with Dijkstra’s Algorithm File - Moodle - AI Course\n",
    "\n",
    "\n",
    "\n",
    "2)\n",
    "\n",
    "https://stackabuse.com/courses/graphs-in-python-theory-and-implementation/lessons/a-star-search-algorithm/"
   ]
  },
  {
   "cell_type": "code",
   "execution_count": null,
   "id": "f972a491",
   "metadata": {},
   "outputs": [],
   "source": []
  }
 ],
 "metadata": {
  "kernelspec": {
   "display_name": "Python 3 (ipykernel)",
   "language": "python",
   "name": "python3"
  },
  "language_info": {
   "codemirror_mode": {
    "name": "ipython",
    "version": 3
   },
   "file_extension": ".py",
   "mimetype": "text/x-python",
   "name": "python",
   "nbconvert_exporter": "python",
   "pygments_lexer": "ipython3",
   "version": "3.9.12"
  }
 },
 "nbformat": 4,
 "nbformat_minor": 5
}
