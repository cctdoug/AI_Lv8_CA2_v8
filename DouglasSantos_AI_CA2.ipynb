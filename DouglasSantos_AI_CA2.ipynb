{
 "cells": [
  {
   "cell_type": "code",
   "execution_count": 4,
   "id": "bead6ba4",
   "metadata": {},
   "outputs": [],
   "source": [
    "# Library to insert Images and Documents to the notebook\n",
    "from IPython.display import IFrame"
   ]
  },
  {
   "cell_type": "markdown",
   "id": "a4d8e117",
   "metadata": {},
   "source": [
    "*Cover Page Placeholder*"
   ]
  },
  {
   "cell_type": "markdown",
   "id": "28c9adfd",
   "metadata": {},
   "source": [
    "# Questions \n",
    "__1) A puzzle has multiple ways of reaching the end solution. Fig. 1 shows a graph that represents all possible routes to the solution. The starting point of the game is represented by A, the solution is represented by S. The other points in the graph are possible intermediary stages.__"
   ]
  },
  {
   "cell_type": "markdown",
   "id": "e54067f4",
   "metadata": {},
   "source": [
    "![Fig. 1](Graph.png)\n",
    "\n",
    "  \n",
    "  __*(a) The graph in Fig. 1 is a visualisation of the problem.*__ \n"
   ]
  },
  {
   "cell_type": "markdown",
   "id": "b050b1f6",
   "metadata": {},
   "source": [
    "(i) Identify the differences between a graph and a tree. [0-5] \n"
   ]
  },
  {
   "cell_type": "markdown",
   "id": "a402242e",
   "metadata": {},
   "source": []
  },
  {
   "cell_type": "markdown",
   "id": "c0c80813",
   "metadata": {},
   "source": [
    "(ii) Explain in detail how the graph is an abstraction of the problem. [0-5]\n"
   ]
  },
  {
   "cell_type": "markdown",
   "id": "4647e3b2",
   "metadata": {},
   "source": []
  },
  {
   "cell_type": "markdown",
   "id": "2477b454",
   "metadata": {},
   "source": [
    "(iii) Identify the advantages of using a visualisation such as the one shown in Fig. 1. [0-5]"
   ]
  },
  {
   "cell_type": "markdown",
   "id": "ce5d4220",
   "metadata": {},
   "source": []
  },
  {
   "cell_type": "markdown",
   "id": "3c913dcc",
   "metadata": {},
   "source": [
    "__*(b) Demonstrate how Dijkstra’s algorithm would find the shortest path to the solution in Fig.1 through diagrams and written explanation of each stage. [0-25]*__"
   ]
  },
  {
   "cell_type": "markdown",
   "id": "814647f1",
   "metadata": {},
   "source": []
  },
  {
   "cell_type": "markdown",
   "id": "ad60330d",
   "metadata": {},
   "source": [
    "__2) The creator of the puzzle has been told that the A* algorithm is more efficient at finding the shortest path because it uses heuristics. Compare the performance of Dijkstra’s algorithm and the A* search algorithm, referring to heuristics, to find the shortest path to the problem by implementing both algorithms programmatically and comparing the solutions generated in Mark-down. Refer to the complexity of the algorithms and compare the actual time it takes for the solutions to be processed. [0-60]__\n"
   ]
  },
  {
   "cell_type": "markdown",
   "id": "eaf0fcef",
   "metadata": {},
   "source": []
  },
  {
   "cell_type": "markdown",
   "id": "1cef543f",
   "metadata": {},
   "source": [
    "# References\n",
    "\n",
    "\n"
   ]
  },
  {
   "cell_type": "markdown",
   "id": "f4568753",
   "metadata": {},
   "source": [
    "(i) \n",
    "\n",
    "https://www.javatpoint.com/tree-vs-graph-data-structure\n",
    "\n",
    "https://cloudytechi.medium.com/difference-between-tree-and-graph-a46989680cd\n",
    "\n",
    "https://techdifferences.com/difference-between-tree-and-graph.html\n",
    "\n",
    "https://www.geeksforgeeks.org/difference-between-graph-and-tree/\n",
    "\n",
    "https://www.baeldung.com/cs/tree-vs-graph-data-structure\n",
    "\n",
    "What's the difference between the data structure Tree and Graph?. https://stackoverflow.com/questions/7423401/whats-the-difference-between-the-data-structure-tree-and-graph.\n",
    "\n",
    "https://www.maths.ed.ac.uk/~v1ranick/papers/wilsongraph.pdf\n",
    "\n",
    "\n",
    "(ii)\n",
    "\n",
    "https://www.manning.com/books/classic-computer-science-problems-in-swift\n",
    "\n",
    "https://livebook.manning.com/book/classic-computer-science-problems-in-swift/chapter-4/\n",
    "\n",
    "\n",
    "(iii)\n",
    "\n",
    "https://www.geeksforgeeks.org/applications-advantages-and-disadvantages-of-weighted-graph/\n",
    "\n",
    "https://memgraph.com/blog/graph-search-algorithms-developers-guide\n",
    "\n",
    "https://www.baeldung.com/cs/weighted-vs-unweighted-graphs\n",
    "\n",
    "\n",
    "\n",
    "(b)\n",
    "\n",
    "https://medium.com/recreational-maths/dijkstras-algorithm-4963ad174058\n",
    "\n",
    "https://levelup.gitconnected.com/dijkstras-algorithm-vs-a-search-a-short-comic-5fdd95fcfca\n",
    "\n",
    "https://towardsdev.com/algorithms-series-dijkstras-shortest-path-algorithm-c73678862a90\n",
    "\n",
    "Shortest Path with Dijkstra’s AlgorithmFile - Moodle - AI Course\n",
    "\n",
    "\n",
    "\n"
   ]
  },
  {
   "cell_type": "code",
   "execution_count": null,
   "id": "c3df409e",
   "metadata": {},
   "outputs": [],
   "source": []
  }
 ],
 "metadata": {
  "kernelspec": {
   "display_name": "Python 3 (ipykernel)",
   "language": "python",
   "name": "python3"
  },
  "language_info": {
   "codemirror_mode": {
    "name": "ipython",
    "version": 3
   },
   "file_extension": ".py",
   "mimetype": "text/x-python",
   "name": "python",
   "nbconvert_exporter": "python",
   "pygments_lexer": "ipython3",
   "version": "3.9.12"
  }
 },
 "nbformat": 4,
 "nbformat_minor": 5
}
