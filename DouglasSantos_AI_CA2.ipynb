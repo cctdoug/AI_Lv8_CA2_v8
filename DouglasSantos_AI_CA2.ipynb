{
 "cells": [
  {
   "cell_type": "code",
   "execution_count": 4,
   "id": "fb98f903",
   "metadata": {},
   "outputs": [],
   "source": [
    "# Library to insert Images and Documents to the notebook\n",
    "from IPython.display import IFrame"
   ]
  },
  {
   "cell_type": "markdown",
   "id": "5cc78834",
   "metadata": {},
   "source": [
    "*Cover Page Placeholder*"
   ]
  },
  {
   "cell_type": "markdown",
   "id": "a4b4584d",
   "metadata": {},
   "source": [
    "# Questions \n",
    "__1) A puzzle has multiple ways of reaching the end solution. Fig. 1 shows a graph that represents all possible routes to the solution. The starting point of the game is represented by A, the solution is represented by S. The other points in the graph are possible intermediary stages.__"
   ]
  },
  {
   "cell_type": "markdown",
   "id": "7c4704a6",
   "metadata": {},
   "source": [
    "![Fig. 1](Graph.png)\n",
    "\n",
    "  \n",
    "  __*(a) The graph in Fig. 1 is a visualisation of the problem.*__ \n",
    "  "
   ]
  },
  {
   "cell_type": "markdown",
   "id": "2441f24a",
   "metadata": {},
   "source": [
    "(i) Identify the differences between a graph and a tree. [0-5] \n"
   ]
  },
  {
   "cell_type": "markdown",
   "id": "6e750659",
   "metadata": {},
   "source": [
    "**Trees** are a subset of graphs, with a more strict, ***hierarchical structure***, and they are, in a way, similar to family trees: Each member (node) has one parent and can have many children. With trees there are ***no loops***, there can be no connection from a node with itself. If there are n members, there are n-1 connections.\n",
    "\n",
    "**Graphs** are a ***more flexible*** kind of data structures. With graphs, nodes can connect to any number of other nodes, including themselves, causing loops, and there is no central root node. The number of connections can vary.\n"
   ]
  },
  {
   "cell_type": "markdown",
   "id": "5af21fa3",
   "metadata": {},
   "source": [
    "(ii) Explain in detail how the graph is an abstraction of the problem. [0-5]\n"
   ]
  },
  {
   "cell_type": "markdown",
   "id": "09230e77",
   "metadata": {},
   "source": [
    "A graph, as representation of the puzzle, can serve us to **simplify a complex problem**, and ignore the irrelevant details. In this case, a puzzle with multiple solutions, the main goal is to find the most optimal solution. By using a graph to represent the problem, we can **visualize and analyze its properties**, like the number of stages (represented by the nodes), possible moves, complexity, and difficulty (which can be represented by the weight of the edges).\n",
    "\n",
    "Using a graph, as such representation, also allows us to apply **graph algorithms** to find the desired solution more efficiently. This abstraction allows us to turn a real life situation into a logical mathematical problem, applying mathematical tools to achieve a more efficient solution."
   ]
  },
  {
   "cell_type": "markdown",
   "id": "065e243d",
   "metadata": {},
   "source": [
    "(iii) Identify the advantages of using a visualisation such as the one shown in Fig. 1. [0-5]"
   ]
  },
  {
   "cell_type": "markdown",
   "id": "55b7117b",
   "metadata": {},
   "source": []
  },
  {
   "cell_type": "markdown",
   "id": "7952eabc",
   "metadata": {},
   "source": [
    "__*(b) Demonstrate how Dijkstra’s algorithm would find the shortest path to the solution in Fig.1 through diagrams and written explanation of each stage. [0-25]*__"
   ]
  },
  {
   "cell_type": "markdown",
   "id": "37f0a7c6",
   "metadata": {},
   "source": []
  },
  {
   "cell_type": "markdown",
   "id": "66bd9f40",
   "metadata": {},
   "source": [
    "__2) The creator of the puzzle has been told that the A* algorithm is more efficient at finding the shortest path because it uses heuristics. Compare the performance of Dijkstra’s algorithm and the A* search algorithm, referring to heuristics, to find the shortest path to the problem by implementing both algorithms programmatically and comparing the solutions generated in Mark-down. Refer to the complexity of the algorithms and compare the actual time it takes for the solutions to be processed. [0-60]__\n"
   ]
  },
  {
   "cell_type": "markdown",
   "id": "7ea5a3b9",
   "metadata": {},
   "source": []
  },
  {
   "cell_type": "markdown",
   "id": "42ec3ba5",
   "metadata": {},
   "source": [
    "# References\n",
    "\n",
    "\n"
   ]
  },
  {
   "cell_type": "markdown",
   "id": "f3b23b92",
   "metadata": {},
   "source": [
    "(i) \n",
    "\n",
    "https://www.javatpoint.com/tree-vs-graph-data-structure\n",
    "\n",
    "https://www.geeksforgeeks.org/difference-between-graph-and-tree/\n",
    "\n",
    "What's the difference between the data structure Tree and Graph?. https://stackoverflow.com/questions/7423401/whats-the-difference-between-the-data-structure-tree-and-graph.\n",
    "\n",
    "https://www.maths.ed.ac.uk/~v1ranick/papers/wilsongraph.pdf\n",
    "\n",
    "\n",
    "(ii)\n",
    "\n",
    "https://www.manning.com/books/classic-computer-science-problems-in-swift\n",
    "\n",
    "https://livebook.manning.com/book/classic-computer-science-problems-in-swift/chapter-4/\n",
    "\n",
    "\n",
    "(iii)\n",
    "\n",
    "https://www.geeksforgeeks.org/applications-advantages-and-disadvantages-of-weighted-graph/\n",
    "\n",
    "https://memgraph.com/blog/graph-search-algorithms-developers-guide\n",
    "\n",
    "https://www.baeldung.com/cs/weighted-vs-unweighted-graphs\n",
    "\n",
    "\n",
    "\n",
    "(b)\n",
    "\n",
    "https://medium.com/recreational-maths/dijkstras-algorithm-4963ad174058\n",
    "\n",
    "https://levelup.gitconnected.com/dijkstras-algorithm-vs-a-search-a-short-comic-5fdd95fcfca\n",
    "\n",
    "https://towardsdev.com/algorithms-series-dijkstras-shortest-path-algorithm-c73678862a90\n",
    "\n",
    "Shortest Path with Dijkstra’s Algorithm File - Moodle - AI Course\n",
    "\n",
    "\n",
    "\n"
   ]
  },
  {
   "cell_type": "code",
   "execution_count": null,
   "id": "f972a491",
   "metadata": {},
   "outputs": [],
   "source": []
  }
 ],
 "metadata": {
  "kernelspec": {
   "display_name": "Python 3 (ipykernel)",
   "language": "python",
   "name": "python3"
  },
  "language_info": {
   "codemirror_mode": {
    "name": "ipython",
    "version": 3
   },
   "file_extension": ".py",
   "mimetype": "text/x-python",
   "name": "python",
   "nbconvert_exporter": "python",
   "pygments_lexer": "ipython3",
   "version": "3.9.12"
  }
 },
 "nbformat": 4,
 "nbformat_minor": 5
}
