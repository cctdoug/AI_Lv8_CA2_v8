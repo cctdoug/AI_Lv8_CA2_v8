{
 "cells": [
  {
   "cell_type": "code",
   "execution_count": 4,
   "id": "661e3a8d",
   "metadata": {},
   "outputs": [],
   "source": [
    "# Library to insert Images and Documents to the notebook\n",
    "from IPython.display import IFrame"
   ]
  },
  {
   "cell_type": "markdown",
   "id": "fbe75038",
   "metadata": {},
   "source": [
    "*Cover Page Placeholder*"
   ]
  },
  {
   "cell_type": "markdown",
   "id": "82527c5d",
   "metadata": {},
   "source": [
    "# Questions \n",
    "__1) A puzzle has multiple ways of reaching the end solution. Fig. 1 shows a graph that represents all possible routes to the solution. The starting point of the game is represented by A, the solution is represented by S. The other points in the graph are possible intermediary stages.__"
   ]
  },
  {
   "cell_type": "markdown",
   "id": "f75612b5",
   "metadata": {},
   "source": [
    "![Fig. 1](Graph.png)\n",
    "\n",
    "  \n",
    "  __*(a) The graph in Fig. 1 is a visualisation of the problem.*__ \n"
   ]
  },
  {
   "cell_type": "markdown",
   "id": "d885432d",
   "metadata": {},
   "source": [
    "(i) Identify the differences between a graph and a tree. [0-5] \n"
   ]
  },
  {
   "cell_type": "markdown",
   "id": "f000a98a",
   "metadata": {},
   "source": []
  },
  {
   "cell_type": "markdown",
   "id": "e6e089e9",
   "metadata": {},
   "source": [
    "(ii) Explain in detail how the graph is an abstraction of the problem. [0-5]\n"
   ]
  },
  {
   "cell_type": "markdown",
   "id": "ffea9e2b",
   "metadata": {},
   "source": []
  },
  {
   "cell_type": "markdown",
   "id": "714c5bb2",
   "metadata": {},
   "source": [
    "(iii) Identify the advantages of using a visualisation such as the one shown in Fig. 1. [0-5]"
   ]
  },
  {
   "cell_type": "markdown",
   "id": "53663773",
   "metadata": {},
   "source": []
  },
  {
   "cell_type": "markdown",
   "id": "4f569d6b",
   "metadata": {},
   "source": [
    "__*(b) Demonstrate how Dijkstra’s algorithm would find the shortest path to the solution in Fig.1 through diagrams and written explanation of each stage. [0-25]*__"
   ]
  },
  {
   "cell_type": "markdown",
   "id": "619995fc",
   "metadata": {},
   "source": []
  },
  {
   "cell_type": "markdown",
   "id": "850e392f",
   "metadata": {},
   "source": [
    "__2) The creator of the puzzle has been told that the A* algorithm is more efficient at finding the shortest path because it uses heuristics. Compare the performance of Dijkstra’s algorithm and the A* search algorithm, referring to heuristics, to find the shortest path to the problem by implementing both algorithms programmatically and comparing the solutions generated in Mark-down. Refer to the complexity of the algorithms and compare the actual time it takes for the solutions to be processed. [0-60]__\n"
   ]
  },
  {
   "cell_type": "markdown",
   "id": "5f9ee795",
   "metadata": {},
   "source": []
  },
  {
   "cell_type": "markdown",
   "id": "b0e8e7ae",
   "metadata": {},
   "source": [
    "# References\n",
    "\n",
    "\n"
   ]
  }
 ],
 "metadata": {
  "kernelspec": {
   "display_name": "Python 3 (ipykernel)",
   "language": "python",
   "name": "python3"
  },
  "language_info": {
   "codemirror_mode": {
    "name": "ipython",
    "version": 3
   },
   "file_extension": ".py",
   "mimetype": "text/x-python",
   "name": "python",
   "nbconvert_exporter": "python",
   "pygments_lexer": "ipython3",
   "version": "3.9.12"
  }
 },
 "nbformat": 4,
 "nbformat_minor": 5
}
