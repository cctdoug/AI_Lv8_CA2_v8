{
 "cells": [
  {
   "cell_type": "markdown",
   "id": "5cc78834",
   "metadata": {},
   "source": [
    "*Cover Page Placeholder*"
   ]
  },
  {
   "cell_type": "markdown",
   "id": "a4b4584d",
   "metadata": {},
   "source": [
    "# Questions \n",
    "### 1) A puzzle has multiple ways of reaching the end solution. Fig. 1 shows a graph that represents all possible routes to the solution. The starting point of the game is represented by A, the solution is represented by S. The other points in the graph are possible intermediary stages."
   ]
  },
  {
   "cell_type": "markdown",
   "id": "7c4704a6",
   "metadata": {},
   "source": [
    "<img src=\"Graph.png\" width=\"60%\"/>\n",
    "\n",
    "(a) The graph in Fig. 1 is a visualisation of the problem."
   ]
  },
  {
   "cell_type": "markdown",
   "id": "2441f24a",
   "metadata": {},
   "source": [
    "### (i) Identify the differences between a graph and a tree.\n"
   ]
  },
  {
   "cell_type": "markdown",
   "id": "6e750659",
   "metadata": {},
   "source": [
    "**Trees** are a subset of graphs, with a more strict, ***hierarchical structure***, and they are, in a way, similar to family trees: Each member (node) has one parent and can have many children. With trees there are ***no loops***, there can be no connection from a node with itself. If there are n members, there are n-1 connections.\n",
    "\n",
    "**Graphs** are a ***more flexible*** kind of data structures. With graphs, nodes can connect to any number of other nodes, including themselves, causing loops, and there is no central root node. The number of connections can vary.\n"
   ]
  },
  {
   "cell_type": "markdown",
   "id": "5af21fa3",
   "metadata": {},
   "source": [
    "### (ii) Explain in detail how the graph is an abstraction of the problem.\n"
   ]
  },
  {
   "cell_type": "markdown",
   "id": "09230e77",
   "metadata": {},
   "source": [
    "A graph, as representation of the puzzle, can serve us to **simplify a complex problem**, and ignore the irrelevant details. In this case, a puzzle with multiple solutions, the main goal is to find the most optimal solution. By using a graph to represent the problem, we can **visualize and analyze its properties**, like the number of stages (represented by the nodes), possible moves, complexity, and difficulty (which can be represented by the weight of the edges).\n",
    "\n",
    "Using a graph, as such representation, also allows us to apply **graph algorithms** to find the desired solution more efficiently. This abstraction allows us to turn a real life situation into a logical mathematical problem, applying mathematical tools to achieve a more efficient solution."
   ]
  },
  {
   "cell_type": "markdown",
   "id": "065e243d",
   "metadata": {},
   "source": [
    "### (iii) Identify the advantages of using a visualisation such as the one shown in Fig. 1. "
   ]
  },
  {
   "cell_type": "markdown",
   "id": "55b7117b",
   "metadata": {},
   "source": [
    "Visualizing a problem like this has several advantages:\n",
    "\n",
    "**Intuitive visualization:** Visuals are easier to understand than text or numbers. They can help everyone, even those who are not experts, understand the problem quickly and easily.\n",
    "\n",
    "**Effective Communication:** A good visualization makes complicated information easy and clear to understand. It ensures that everyone is on the same page, making data sharing easier.\n",
    "\n",
    "**Better Analysis:** Visualization can lead to better analysis as it allows a more comprehensive view of the data. It can also help in checking the results of models and algorithms.\n",
    "\n",
    "**Use of Algorithms:** With the problem visualized as a graph, we can apply graph algorithms like Dijkstra’s or A* to find the shortest path or the optimal solution efficiently.\n"
   ]
  },
  {
   "cell_type": "markdown",
   "id": "7952eabc",
   "metadata": {},
   "source": [
    "### (b) Demonstrate how Dijkstra’s algorithm would find the shortest path to the solution in Fig.1 through diagrams and written explanation of each stage."
   ]
  },
  {
   "cell_type": "markdown",
   "id": "b8ae8315",
   "metadata": {},
   "source": [
    "Dijkstra uses a greedy approach, calculating the shortest path from the starting node to all other nodes in the graph. It will use a priority queue to select the next node to visit, in this case, based on the weight given. In order to find the shortest path to the solution in Fig. 1 it will first assign 'infinity' as initial value to all vertices to make sure any other cost it assigns to the paths later on is the lowest, except for A, which is the starting node, that will be equal to zero, the distance cost from itself:"
   ]
  },
  {
   "cell_type": "markdown",
   "id": "a0210d44",
   "metadata": {},
   "source": [
    "A .................. 0 - From: A\\\n",
    "B .................. inf\\\n",
    "C .................. inf\\\n",
    "D .................. inf\\\n",
    "E .................. inf\\\n",
    "F .................. inf\\\n",
    "G .................. inf\\\n",
    "H .................. inf\\\n",
    "J .................. inf\\\n",
    "K .................. inf\\\n",
    "L .................. inf\\\n",
    "M .................. inf\\\n",
    "N .................. inf\\\n",
    "P .................. inf\\\n",
    "Q .................. inf\\\n",
    "R .................. inf\\\n",
    "S .................. inf\\\n",
    "T .................. inf\\\n",
    "U .................. inf\\\n",
    "V .................. inf\\\n",
    "W .................. inf"
   ]
  },
  {
   "cell_type": "markdown",
   "id": "903ddf64",
   "metadata": {},
   "source": [
    "It will keep track of visited nodes (**here represented by (x)**), updating their costs along the way, according to the lowest cost path taken to get to them. In this example, in the first iteration the costs from A to B is 1, A to H is 2, and A to C is 5, which are less than 'infinity', so it will replace the original values:"
   ]
  },
  {
   "cell_type": "markdown",
   "id": "bb6d65be",
   "metadata": {},
   "source": [
    "**Vertex** **--------** **Cost**\\\n",
    "\\\n",
    "**(x) A .................. 0 - From: A\\\n",
    "B .................. 1 - From: A\\\n",
    "C .................. 5 - From:A**\\\n",
    "D .................. inf\\\n",
    "E .................. inf\\\n",
    "F .................. inf\\\n",
    "G .................. inf\\\n",
    "**H .................. 2 - From: A**"
   ]
  },
  {
   "cell_type": "markdown",
   "id": "ed26c9c3",
   "metadata": {},
   "source": [
    "\n",
    "<img src=\"Visited-A.png\" align=\"left\" width=\"50%\"/>\n"
   ]
  },
  {
   "cell_type": "markdown",
   "id": "79833485",
   "metadata": {},
   "source": [
    "It then goes to the lowest cost adjecent vertex **(B=1)** and repeats the process. It marks it as visited and calculates the path to C and D. This time, the cost from B to C will be lower than A to C, so it replaces it with the lowest:"
   ]
  },
  {
   "cell_type": "markdown",
   "id": "3a763022",
   "metadata": {},
   "source": [
    "**Vertex** **--------** **Cost**\\\n",
    "\\\n",
    "**(x) A .................. 0 - From: A\\\n",
    "(x) B .................. 1 - From: A\\\n",
    "C .................. 3 - From: B\\\n",
    "D .................. 5 - From: B**\\\n",
    "E .................. inf\\\n",
    "F .................. inf\\\n",
    "G .................. inf\\\n",
    "**H .................. 2 - From: A**"
   ]
  },
  {
   "cell_type": "markdown",
   "id": "155b4943",
   "metadata": {},
   "source": [
    "After that, it chooses again the lowest cost unvisited vertex, now H (H=2 < C=3 < D=5):"
   ]
  },
  {
   "cell_type": "markdown",
   "id": "45800795",
   "metadata": {},
   "source": [
    "**Vertex** **--------** **Cost**\\\n",
    "\\\n",
    "**(x) A .................. 0 - From: A\\\n",
    "(x) B .................. 1 - From: A\\\n",
    "C .................. 3 - From: B\\\n",
    "D .................. 5 - From: B**\\\n",
    "E .................. inf\\\n",
    "F .................. inf\\\n",
    "G .................. inf\\\n",
    "**(x) H .................. 2 - From: A\\\n",
    "J .................. 11 - From: H\\\n",
    "K .................. 7 - From: H**"
   ]
  },
  {
   "cell_type": "markdown",
   "id": "56c93044",
   "metadata": {},
   "source": [
    "<img src=\"Visited-A-B-H.png\" align=\"left\" width=\"50%\"/>"
   ]
  },
  {
   "cell_type": "markdown",
   "id": "a7561790",
   "metadata": {},
   "source": [
    "It goes on to explore every vertex and calculate every path.\\\n",
    "It does it so by always choosing the lowest cost unvisited vertex.\\\n",
    "The final table for the graph above will look like this:"
   ]
  },
  {
   "cell_type": "markdown",
   "id": "537367ab",
   "metadata": {},
   "source": [
    "**Vertex** ----------- **Cost**\\\n",
    "**\\\n",
    "(x) A .................. 0 - From: A\\\n",
    "(x) B .................. 1 - From: A\\\n",
    "(x) C .................. 3 - From: B**\\\n",
    "(x) D .................. 5 - From: B\\\n",
    "(x) E .................. 9 - From: F\\\n",
    "(x) F .................. 6 - From: G\\\n",
    "**(x) G .................. 4 - From: C**\\\n",
    "(x) H .................. 2 - From: A\\\n",
    "(x) J .................. 10 - From: K\\\n",
    "(x) K .................. 7 - From: H\\\n",
    "**(x) L .................. 7 - From: G**\\\n",
    "(x) M .................. 11 - From: L\\\n",
    "**(x) N .................. 10 - From: L**\\\n",
    "(x) P .................. 13 - From: M\\\n",
    "(x) Q .................. 19 - From: W\\\n",
    "(x) R .................. 18 - From: P\\\n",
    "**(x) S .................. 17 - From: N**\\\n",
    "(x) T .................. 20 - From: U\\\n",
    "(x) U .................. 19 - From: S\\\n",
    "(x) V .................. 17 - From: L\\\n",
    "(x) W .................. 15 - From: E\n",
    "\n"
   ]
  },
  {
   "cell_type": "markdown",
   "id": "76b7508c",
   "metadata": {},
   "source": [
    "After visiting all nodes and calculating all paths, it will then reveal the value of the lowest cost path from A to S: **17**\\\n",
    "And the path: **A - B - C - G - L - N - S**\n",
    "\n",
    "<img src=\"shortest_path_graph.png\" align=\"left\" width=\"55%\"/>"
   ]
  },
  {
   "cell_type": "markdown",
   "id": "66bd9f40",
   "metadata": {},
   "source": [
    "### 2) The creator of the puzzle has been told that the A* algorithm is more efficient at finding the shortest path because it uses heuristics.\n",
    "**Compare the performance of Dijkstra’s algorithm and the A* search algorithm, referring to heuristics, to find the shortest path to the problem by implementing both algorithms programmatically and comparing the solutions generated in Mark-down. \\\n",
    "\\\n",
    "Refer to the complexity of the algorithms and compare the actual time it takes for the solutions to be processed.**\n"
   ]
  },
  {
   "cell_type": "markdown",
   "id": "e357c4eb",
   "metadata": {},
   "source": [
    "**Dijkstra and A* algorithms** serve similar purposes and act in similar ways, **A* being just a special way of Dijkstra**, using his Heuristics to become and informed algorithm, turning into a best search first type, choosing which vertex to explore based on the total cost to reaching that node, which is the combination of the real cost and the approximate cost (Heuristics).\\\n",
    "\n",
    "An efective A* algorithm is as good as the quality of its **Heuristics**. It can perfom extremely better or barely enough, when compared to Dijsktra, all depending on its function. In a worst case scenario, it will perfom the same as Dijkstra (if considering, for example, the cost of Heuristics are all 0, or all the same).\\\n",
    "\n",
    "The decision to use one or the other will also depend on the requirements of the problem. For this exercise, the code used was found at **<a href=\"https://stackabuse.com\" target=\"_blank\">stackabuse.com</a>** (which has been referenced below in the appropriate section and throughout the exercise), but slightly altered to fulfill the constraints.\\"
   ]
  },
  {
   "cell_type": "markdown",
   "id": "620a0c72",
   "metadata": {},
   "source": [
    "# Dijkstra Algorithm\n",
    "\n",
    "This is the base **<a href=\"https://stackabuse.com/courses/graphs-in-python-theory-and-implementation/lessons/dijkstras-algorithm/\" target=\"_blank\">Dijkstra</a>**  code it will be used:"
   ]
  },
  {
   "cell_type": "code",
   "execution_count": 1,
   "id": "b3082e34",
   "metadata": {},
   "outputs": [],
   "source": [
    "# libraries\n",
    "from queue import PriorityQueue\n",
    "from itertools import combinations\n",
    "from collections import deque\n",
    "import time"
   ]
  },
  {
   "cell_type": "code",
   "execution_count": 2,
   "id": "5b81213e",
   "metadata": {},
   "outputs": [],
   "source": [
    "class Graph:\n",
    "    def __init__(self):\n",
    "        self.vertices = {}\n",
    "        self.edges = []\n",
    "\n",
    "    # Add a vertex to the graph\n",
    "    def add_vertex(self, vertex):\n",
    "        if vertex not in self.vertices:\n",
    "            self.vertices[vertex] = len(self.vertices)\n",
    "            self.edges.append({})\n",
    "            \n",
    "    # Add an edge and its weight to the graph\n",
    "    def add_edge(self, u, v, weight):\n",
    "        self.edges[self.vertices[u]][self.vertices[v]] = weight\n",
    "        self.edges[self.vertices[v]][self.vertices[u]] = weight\n",
    "\n",
    "     # Dijkstra's algorithm function\n",
    "    def dijkstra(self, start_vertex, end_vertex):\n",
    "        start_index = self.vertices[start_vertex]\n",
    "        end_index = self.vertices[end_vertex]\n",
    "        \n",
    "        # Initialize distances with infinity for all vertices except the start vertex\n",
    "        D = {v: float('inf') for v in range(len(self.vertices))}\n",
    "        D[start_index] = 0\n",
    "\n",
    "        # Priority queue to store vertices and their distances\n",
    "        pq = PriorityQueue()\n",
    "        pq.put((0, start_index))\n",
    "\n",
    "        visited = set()\n",
    "        \n",
    "        # Initialize a counter for the nodes explored\n",
    "        nodes_explored_d = 0\n",
    "\n",
    "        while not pq.empty():\n",
    "            # Get the vertex with the minimum distance from the priority queue\n",
    "            (dist, current_vertex) = pq.get()\n",
    "            visited.add(current_vertex)\n",
    "            \n",
    "            # Increment the counter when a node is visited\n",
    "            nodes_explored_d += 1\n",
    "\n",
    "            if current_vertex == end_index:\n",
    "                # If the current vertex is the end vertex, stop the algorithm\n",
    "                break\n",
    "\n",
    "            for neighbor, weight in self.edges[current_vertex].items():\n",
    "                if neighbor not in visited:\n",
    "                    old_cost = D[neighbor]\n",
    "                    new_cost = D[current_vertex] + weight\n",
    "                    if new_cost < old_cost:\n",
    "                        pq.put((new_cost, neighbor))\n",
    "                        D[neighbor] = new_cost\n",
    "\n",
    "        # Reconstruct the path from the end vertex to the start vertex\n",
    "        path = [end_vertex]\n",
    "        current_vertex = end_index\n",
    "        while current_vertex != start_index:\n",
    "            neighbors = self.edges[current_vertex]\n",
    "            min_neighbor = min(neighbors, key=lambda x: D[x] + self.edges[current_vertex][x])\n",
    "            path.append(list(self.vertices.keys())[list(self.vertices.values()).index(min_neighbor)])\n",
    "            current_vertex = min_neighbor\n",
    "\n",
    "        return nodes_explored_d, D[end_index], path[::-1]"
   ]
  },
  {
   "cell_type": "markdown",
   "id": "9e697cd6",
   "metadata": {},
   "source": [
    "Defining the vertices and edges, and add them to the graph instance."
   ]
  },
  {
   "cell_type": "code",
   "execution_count": 4,
   "id": "72f64d4b",
   "metadata": {},
   "outputs": [],
   "source": [
    "graph1 = Graph()\n",
    "\n",
    "# Add vertices\n",
    "vertices = ['A', 'B', 'C', 'D', 'E', 'F', 'G',\n",
    "            'H', 'J', 'K', 'L', 'M', 'N', 'P',\n",
    "            'Q', 'R', 'S', 'T', 'U', 'V', 'W']\n",
    "\n",
    "for vertex in vertices:\n",
    "    graph1.add_vertex(vertex)\n",
    "\n",
    "# Define edges\n",
    "edges = [\n",
    "    ('A', 'B', 1), ('A', 'C', 5), ('A', 'H', 2),\n",
    "    ('B', 'C', 2), ('B', 'D', 4),\n",
    "    ('C', 'G', 1),\n",
    "    ('D', 'L', 7), ('D', 'F', 7), ('D', 'E', 4),\n",
    "    ('E', 'F', 3), ('E', 'W', 6),\n",
    "    ('F', 'G', 2),\n",
    "    ('G', 'L', 3),\n",
    "    ('H', 'K', 5), ('H', 'J', 9),\n",
    "    ('J', 'K', 3), ('J', 'N', 6),\n",
    "    ('K', 'L', 5),\n",
    "    ('L', 'N', 3), ('L', 'M', 4), ('L', 'D', 7), ('L', 'G', 3), ('L', 'W', 8), ('L', 'V', 10),\n",
    "    ('M', 'P', 2), ('M', 'Q', 10),\n",
    "    ('N', 'P', 4), ('N', 'S', 7),\n",
    "    ('P', 'R', 5),\n",
    "    ('Q', 'W', 4), ('Q', 'S', 8),\n",
    "    ('R', 'S', 4), ('R', 'T', 3),\n",
    "    ('S', 'N', 7), ('S', 'R', 4), ('S', 'T', 4), ('S', 'U', 2), ('S', 'V', 6), ('S', 'Q', 8),\n",
    "    ('T', 'U', 1),\n",
    "    ('U', 'V', 3),\n",
    "    ('V', 'W', 5), ('V', 'L', 10), ('V', 'S', 6), ('V', 'U', 3),\n",
    "    ('W', 'L', 8), ('W', 'Q', 4), ('W', 'V', 5)\n",
    "    \n",
    "]\n",
    "\n",
    "# Add edges to the graph\n",
    "for edge in edges:\n",
    "    graph1.add_edge(*edge)"
   ]
  },
  {
   "cell_type": "markdown",
   "id": "b79f7c38",
   "metadata": {},
   "source": [
    "# Dijkstra results"
   ]
  },
  {
   "cell_type": "code",
   "execution_count": 5,
   "id": "37dd9568",
   "metadata": {},
   "outputs": [
    {
     "name": "stdout",
     "output_type": "stream",
     "text": [
      "Shortest path found: ['A', 'B', 'C', 'G', 'L', 'N', 'S']\n",
      "Shortest distance from A to S: 17\n",
      "\n",
      "Dijkstra - Total number of nodes explored: 19\n",
      "Dijkstra's Algorithm took 0.0010350999999957367 seconds\n"
     ]
    }
   ],
   "source": [
    "# Start the time counter\n",
    "start_time_d = time.perf_counter()\n",
    "\n",
    "# Choose path\n",
    "start_node = 'A'\n",
    "end_node = 'S'\n",
    "\n",
    "# Find the shortest and lowest-cost path\n",
    "nodes_explored_d, shortest_distance, path = graph1.dijkstra(start_node, end_node)\n",
    "\n",
    "# End the time counter\n",
    "end_time_d = time.perf_counter()\n",
    "\n",
    "# Print the time taken\n",
    "\n",
    "print(f\"Shortest path found: {path}\")\n",
    "print(f\"Shortest distance from {start_node} to {end_node}: {shortest_distance}\\n\")\n",
    "\n",
    "print(f\"Dijkstra - Total number of nodes explored: {nodes_explored_d}\")\n",
    "print(f\"Dijkstra's Algorithm took {end_time_d - start_time_d} seconds\")"
   ]
  },
  {
   "cell_type": "markdown",
   "id": "6974a014",
   "metadata": {},
   "source": [
    "# A* Algorithm\n",
    "For **<a href=\" https://stackabuse.com/courses/graphs-in-python-theory-and-implementation/lessons/a-star-search-algorithm/\" target=\"_blank\">A* algorithm</a>**, this is the code being used. The Heuristics were found by hand measuring the distance between vertex A to the rest of the vertices."
   ]
  },
  {
   "cell_type": "code",
   "execution_count": 6,
   "id": "f275c1e4",
   "metadata": {},
   "outputs": [],
   "source": [
    "class Graph:\n",
    "\n",
    "    def __init__(self, adjacency_list):\n",
    "        self.adjacency_list = adjacency_list\n",
    "\n",
    "    def get_neighbors(self, v):\n",
    "        return self.adjacency_list[v]\n",
    "\n",
    "    # heuristic function using manual measurements\n",
    "    def h(self, n):\n",
    "        H = {\n",
    "            'A': 0,\n",
    "            'B': 1.5,\n",
    "            'C': 2.0,\n",
    "            'D': 6.5,\n",
    "            'E': 9.2,\n",
    "            'F': 6.8,\n",
    "            'G': 4.3,\n",
    "            'H': 1.5,\n",
    "            'J': 7.8,\n",
    "            'K': 3.3,\n",
    "            'L': 7.2,\n",
    "            'M': 11.3,\n",
    "            'N': 11.3,\n",
    "            'P': 14.5,\n",
    "            'Q': 12.0,\n",
    "            'R': 17.2,\n",
    "            'S': 15.7,\n",
    "            'T': 19,\n",
    "            'U': 18.2,\n",
    "            'V': 14.5,\n",
    "            'W': 11.4\n",
    "        }\n",
    "\n",
    "        return H[n]\n",
    "\n",
    "    def a_star_algorithm(self, start_node, stop_node):\n",
    "        # open_list is a list of nodes which have been visited, but who's neighbors\n",
    "        # haven't all been inspected, starts off with the start node\n",
    "        # closed_list is a list of nodes which have been visited\n",
    "        # and who's neighbors have been inspected\n",
    "        open_list = set([start_node])\n",
    "        closed_list = set([])\n",
    "\n",
    "        # g contains current distances from start_node to all other nodes\n",
    "        # the default value (if it's not found in the map) is +infinity\n",
    "        g = {}\n",
    "\n",
    "        g[start_node] = 0\n",
    "\n",
    "        # parents contains an adjacency map of all nodes\n",
    "        parents = {}\n",
    "        parents[start_node] = start_node\n",
    "        \n",
    "        # Initialize a counter for the nodes explored\n",
    "        nodes_explored_a = 0\n",
    "\n",
    "        while len(open_list) > 0:\n",
    "            n = None\n",
    "\n",
    "            # find a node with the lowest value of f() - evaluation function\n",
    "            for v in open_list:\n",
    "                if n == None or g[v] + self.h(v) < g[n] + self.h(n):\n",
    "                    n = v;\n",
    "\n",
    "            if n == None:\n",
    "                #print('Path does not exist!')\n",
    "                return None\n",
    "\n",
    "            nodes_explored_a += 1\n",
    "\n",
    "            # if the current node is the stop_node\n",
    "            # then we begin reconstructin the path from it to the start_node\n",
    "            if n == stop_node:\n",
    "                reconst_path = []\n",
    "\n",
    "                while parents[n] != n:\n",
    "                    reconst_path.append(n)\n",
    "                    n = parents[n]\n",
    "\n",
    "                reconst_path.append(start_node)\n",
    "\n",
    "                reconst_path.reverse()\n",
    "\n",
    "                # print('Path found: {}'.format(reconst_path))\n",
    "                return nodes_explored_a, g, reconst_path\n",
    "\n",
    "            # for all neighbors of the current node do\n",
    "            for (m, weight) in self.get_neighbors(n):\n",
    "                # if the current node isn't in both open_list and closed_list\n",
    "                # add it to open_list and note n as it's parent\n",
    "                if m not in open_list and m not in closed_list:\n",
    "                    open_list.add(m)\n",
    "                    parents[m] = n\n",
    "                    g[m] = g[n] + weight\n",
    "\n",
    "                # otherwise, check if it's quicker to first visit n, then m\n",
    "                # and if it is, update parent data and g data\n",
    "                # and if the node was in the closed_list, move it to open_list\n",
    "                else:\n",
    "                    if g[m] > g[n] + weight:\n",
    "                        g[m] = g[n] + weight\n",
    "                        parents[m] = n\n",
    "\n",
    "                        if m in closed_list:\n",
    "                            closed_list.remove(m)\n",
    "                            open_list.add(m)\n",
    "\n",
    "            # remove n from the open_list, and add it to closed_list\n",
    "            # because all of his neighbors were inspected\n",
    "            open_list.remove(n)\n",
    "            closed_list.add(n)\n",
    "\n",
    "        # print('Path does not exist!')\n",
    "        return None"
   ]
  },
  {
   "cell_type": "markdown",
   "id": "f2f50b2c",
   "metadata": {},
   "source": [
    "Creating the graph and adding the values"
   ]
  },
  {
   "cell_type": "code",
   "execution_count": 7,
   "id": "d948832c",
   "metadata": {},
   "outputs": [],
   "source": [
    "   \n",
    "graph_a_star = {\n",
    "    'A': [('B', 1), ('C', 5), ('H', 2)],\n",
    "    'B': [('A', 1), ('C', 2), ('D', 4)],\n",
    "    'C': [('A', 5), ('B', 2), ('G', 1)],\n",
    "    'D': [('B', 4), ('L', 7), ('F', 7), ('E', 4)],\n",
    "    'E': [('D', 4), ('F', 3), ('W', 6)],\n",
    "    'F': [('D', 7), ('G', 2), ('E', 3)],\n",
    "    'G': [('C', 1), ('F', 2), ('L', 3)],\n",
    "    'H': [('A', 2), ('K', 5), ('J', 9)],\n",
    "    'J': [('H', 9), ('K', 3), ('N', 6)],\n",
    "    'K': [('H', 5), ('J', 3), ('L', 5)],\n",
    "    'L': [('K', 5), ('N', 3), ('M', 4), ('D', 7), ('G', 3), ('W', 8), ('V', 10)],\n",
    "    'M': [('L', 4), ('P', 2), ('Q', 10)],\n",
    "    'N': [('J', 6), ('L', 3), ('P', 4), ('S', 7)],\n",
    "    'P': [('M', 2), ('N', 4), ('R', 5)],\n",
    "    'Q': [('M', 10), ('W', 4), ('S', 8)],\n",
    "    'R': [('P', 5), ('S', 4), ('T', 3)],\n",
    "    'S': [('N', 7), ('R', 4), ('T', 4), ('U', 2), ('V', 6), ('Q', 8)],\n",
    "    'T': [('R', 3), ('S', 4), ('U', 1)],\n",
    "    'U': [('S', 1), ('T', 2), ('V', 3)],\n",
    "    'V': [('W', 5), ('L', 10), ('S', 6), ('U', 3)],\n",
    "    'W': [('E', 6), ('L', 8), ('Q', 4), ('V', 5)]\n",
    "}\n",
    "\n",
    "\n",
    "graph2 = Graph(graph_a_star)"
   ]
  },
  {
   "cell_type": "markdown",
   "id": "42fb8bdf",
   "metadata": {},
   "source": [
    "# A* results"
   ]
  },
  {
   "cell_type": "code",
   "execution_count": 8,
   "id": "2529d234",
   "metadata": {},
   "outputs": [
    {
     "name": "stdout",
     "output_type": "stream",
     "text": [
      "Path found: ['A', 'B', 'C', 'G', 'L', 'N', 'S']\n",
      "Shortest distance from A to S: 17\n",
      "\n",
      "A star - Number of nodes explored: 18\n",
      "A star's Algorithm took 0.0005679999999870233 seconds\n"
     ]
    }
   ],
   "source": [
    "# Start the time counter\n",
    "start_time_a = time.perf_counter()\n",
    "\n",
    "# Find the path\n",
    "result = graph2.a_star_algorithm(start_node, end_node)\n",
    "\n",
    "# Stop the time counter\n",
    "end_time_a = time.perf_counter()\n",
    "\n",
    "# Print the results\n",
    "if result:\n",
    "    nodes_explored_a, g, path = result\n",
    "    a_shortest_distance = g[end_node]\n",
    "\n",
    "    print(f\"Path found: {path}\") \n",
    "    print(f\"Shortest distance from {start_node} to {end_node}: {a_shortest_distance}\\n\")\n",
    "    print(f\"A star - Number of nodes explored: {nodes_explored_a}\")\n",
    "else:\n",
    "    print(\"Path does not exist!\")\n",
    "\n",
    "# Print the time taken\n",
    "print(f\"A star's Algorithm took {end_time_a - start_time_a} seconds\")"
   ]
  },
  {
   "cell_type": "code",
   "execution_count": null,
   "id": "31c215be",
   "metadata": {},
   "outputs": [],
   "source": []
  },
  {
   "cell_type": "markdown",
   "id": "42ec3ba5",
   "metadata": {},
   "source": [
    "# References and Resources\n",
    "\n",
    "\n"
   ]
  },
  {
   "cell_type": "markdown",
   "id": "f3b23b92",
   "metadata": {},
   "source": [
    "1)\n",
    "\n",
    "(a)(i) \n",
    "\n",
    "https://www.javatpoint.com/tree-vs-graph-data-structure\n",
    "\n",
    "https://www.geeksforgeeks.org/difference-between-graph-and-tree/\n",
    "\n",
    "https://stackoverflow.com/questions/7423401/whats-the-difference-between-the-data-structure-tree-and-graph.\n",
    "\n",
    "https://www.maths.ed.ac.uk/~v1ranick/papers/wilsongraph.pdf\n",
    "\n",
    "\n",
    "(a)(ii)\n",
    "\n",
    "https://www.manning.com/books/classic-computer-science-problems-in-swift\n",
    "\n",
    "https://livebook.manning.com/book/classic-computer-science-problems-in-swift/chapter-4/\n",
    "\n",
    "\n",
    "(a)(iii)\n",
    "\n",
    "https://hdsr.mitpress.mit.edu/pub/zok97i7p/release/4\n",
    "\n",
    "https://www.tableau.com/data-insights/data-visualization/advantages-disadvantages\n",
    "\n",
    "https://www.geeksforgeeks.org/applications-advantages-and-disadvantages-of-weighted-graph\n",
    "\n",
    "\n",
    "(b)\n",
    "\n",
    "https://medium.com/recreational-maths/dijkstras-algorithm-4963ad174058\n",
    "\n",
    "https://stackabuse.com/courses/graphs-in-python-theory-and-implementation/lessons/dijkstras-algorithm/\n",
    "\n",
    "https://stackoverflow.com/questions/22897209/dijkstras-algorithm-in-python\n",
    "\n",
    "https://levelup.gitconnected.com/dijkstras-algorithm-vs-a-search-a-short-comic-5fdd95fcfca\n",
    "\n",
    "https://towardsdev.com/algorithms-series-dijkstras-shortest-path-algorithm-c73678862a90\n",
    "\n",
    "https://graphonline.ru/en/\n",
    "\n",
    "Shortest Path with Dijkstra’s Algorithm File - Moodle - AI Course\n",
    "\n",
    "\n",
    "\n",
    "2)\n",
    "\n",
    "https://stackabuse.com/courses/graphs-in-python-theory-and-implementation/lessons/a-star-search-algorithm/\n",
    "\n",
    "https://stackoverflow.com/questions/13031462/difference-and-advantages-between-dijkstra-a-star\n",
    "\n",
    "https://stackoverflow.com/questions/1332466/how-does-dijkstras-algorithm-and-a-star-compare\n",
    "\n",
    "https://superfastpython.com/benchmark-time-perf-counter/\n",
    "\n",
    "https://www.geeksforgeeks.org/time-perf_counter-function-in-python/\n",
    "\n",
    "https://algodaily.com/lessons/an-illustrated-guide-to-dijkstras-algorithm/time-complexity\n",
    "\n",
    "https://www.geeksforgeeks.org/introduction-to-dijkstras-shortest-path-algorithm/\n",
    "\n",
    "for code\n",
    "For example:\n",
    "\n",
    "Smith, J. and Brown, A. 2021, 'Dijkstra's Algorithm Implementation in Python', Version 1.1, Code, GeeksforGeeks, Available at: https://www.geeksforgeeks.org/dijkstras-shortest-path-algorithm-greedy-algo-7/ (Accessed: 17 November 2023)."
   ]
  },
  {
   "cell_type": "code",
   "execution_count": null,
   "id": "f972a491",
   "metadata": {},
   "outputs": [],
   "source": []
  }
 ],
 "metadata": {
  "kernelspec": {
   "display_name": "Python 3 (ipykernel)",
   "language": "python",
   "name": "python3"
  },
  "language_info": {
   "codemirror_mode": {
    "name": "ipython",
    "version": 3
   },
   "file_extension": ".py",
   "mimetype": "text/x-python",
   "name": "python",
   "nbconvert_exporter": "python",
   "pygments_lexer": "ipython3",
   "version": "3.9.12"
  }
 },
 "nbformat": 4,
 "nbformat_minor": 5
}
